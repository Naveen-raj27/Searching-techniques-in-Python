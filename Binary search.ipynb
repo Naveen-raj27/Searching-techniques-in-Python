{
 "cells": [
  {
   "cell_type": "code",
   "execution_count": 11,
   "id": "e855d93d",
   "metadata": {},
   "outputs": [],
   "source": [
    "##binary search using tkinter\n",
    "import tkinter as tk\n",
    "\n",
    "def binary_search(arr, low, high, x):\n",
    "    if high >= low:\n",
    "        mid = (high + low) // 2\n",
    "        if arr[mid] == x:\n",
    "            return mid\n",
    "        elif arr[mid] > x:\n",
    "            return binary_search(arr, low, mid - 1, x)\n",
    "        else:\n",
    "            return binary_search(arr, mid + 1, high, x)\n",
    "    else:\n",
    "        return -1\n",
    "\n",
    "def perform_binary_search():\n",
    "    x = int(entry.get())\n",
    "    result = binary_search(arr, 0, len(arr) - 1, x)\n",
    "    if result != -1:\n",
    "        result_label.config(text=f\"Element is present at index: {result}\")\n",
    "    else:\n",
    "        result_label.config(text=\"Element is not present in the array.\")\n",
    "\n",
    "arr = [1,2,3,4,5,6,7,8]\n",
    "\n",
    "# Create the tkinter window\n",
    "root = tk.Tk()\n",
    "root.title(\"Binary Search\")\n",
    "\n",
    "# Create and place GUI elements\n",
    "label = tk.Label(root, text=\"Enter a number to search:\")\n",
    "label.pack(pady=10)\n",
    "\n",
    "entry = tk.Entry(root, width=10)\n",
    "entry.pack(pady=5)\n",
    "\n",
    "search_button = tk.Button(root, text=\"Search\", command=perform_binary_search)\n",
    "search_button.pack(pady=5)\n",
    "\n",
    "result_label = tk.Label(root, text=\"\")\n",
    "result_label.pack(pady=10)\n",
    "\n",
    "root.mainloop()\n"
   ]
  },
  {
   "cell_type": "code",
   "execution_count": 8,
   "id": "50626c17",
   "metadata": {},
   "outputs": [
    {
     "name": "stdout",
     "output_type": "stream",
     "text": [
      "enter a number:3\n",
      "the return index: 2\n"
     ]
    }
   ],
   "source": [
    "#return index of an particular element (linear search)\n",
    "\n",
    "arr=[1,2,3,4,5,6,7,8]\n",
    "a=int(input(\"enter a number:\"))\n",
    "for i in range(len(arr)):    #if you return index value using RANGE funcction\n",
    "    if arr[i]==a:\n",
    "        print(\"the return index:\",i)\n",
    "        break\n",
    "else:\n",
    "        print(\"its not in array\",)\n"
   ]
  },
  {
   "cell_type": "code",
   "execution_count": 1,
   "id": "29fb2034",
   "metadata": {},
   "outputs": [
    {
     "ename": "SyntaxError",
     "evalue": "invalid syntax (<ipython-input-1-ffe32988127f>, line 11)",
     "output_type": "error",
     "traceback": [
      "\u001b[1;36m  File \u001b[1;32m\"<ipython-input-1-ffe32988127f>\"\u001b[1;36m, line \u001b[1;32m11\u001b[0m\n\u001b[1;33m    elif t=nums[m]:\u001b[0m\n\u001b[1;37m          ^\u001b[0m\n\u001b[1;31mSyntaxError\u001b[0m\u001b[1;31m:\u001b[0m invalid syntax\n"
     ]
    }
   ],
   "source": [
    "#binary search\n",
    "\n",
    "Compare the middle element of the search space with the key. \n",
    "If the key is found at middle element, the process is terminated.\n",
    "If the key is not found at middle element, choose which half will be used as the next search space.\n",
    "If the key is smaller than the middle element, then the left side is used for next search.\n",
    "If the key is larger than the middle element, then the right side is used for next search.\n",
    "This process is continued until the key is found or the total search space is exhausted.\n",
    "    "
   ]
  },
  {
   "cell_type": "code",
   "execution_count": null,
   "id": "381809df",
   "metadata": {},
   "outputs": [],
   "source": []
  }
 ],
 "metadata": {
  "kernelspec": {
   "display_name": "Python 3",
   "language": "python",
   "name": "python3"
  },
  "language_info": {
   "codemirror_mode": {
    "name": "ipython",
    "version": 3
   },
   "file_extension": ".py",
   "mimetype": "text/x-python",
   "name": "python",
   "nbconvert_exporter": "python",
   "pygments_lexer": "ipython3",
   "version": "3.8.8"
  }
 },
 "nbformat": 4,
 "nbformat_minor": 5
}
